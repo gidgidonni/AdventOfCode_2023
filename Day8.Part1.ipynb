{
 "cells": [
  {
   "cell_type": "markdown",
   "metadata": {},
   "source": [
    "# Advent of Code\n",
    "\n",
    "## Day 8: Haunted Wasteland"
   ]
  },
  {
   "cell_type": "code",
   "execution_count": 38,
   "metadata": {},
   "outputs": [
    {
     "name": "stdout",
     "output_type": "stream",
     "text": [
      "14681\n"
     ]
    }
   ],
   "source": [
    "instructions, *coordinates = open('Day8.txt').read().split('\\n')\n",
    "\n",
    "coors = []\n",
    "for coor in coordinates:\n",
    "    coors.append([coor[0:3],coor[7:10],coor[12:15]])\n",
    "\n",
    "def coor_selector(string):\n",
    "    if string == 'R':\n",
    "        return 2\n",
    "    if string == 'L':\n",
    "        return 1\n",
    "\n",
    "start_coor = 'AAA'\n",
    "step = 0\n",
    "i = 0\n",
    "while start_coor != 'ZZZ':\n",
    "    for coor in coors:\n",
    "        if start_coor == coor[0]:\n",
    "            start_coor = coor[coor_selector(instructions[i])]\n",
    "            i += 1\n",
    "            if i == len(instructions):\n",
    "                i = 0\n",
    "            break\n",
    "    step += 1\n",
    "\n",
    "print(step)"
   ]
  },
  {
   "cell_type": "code",
   "execution_count": null,
   "metadata": {},
   "outputs": [],
   "source": []
  }
 ],
 "metadata": {
  "kernelspec": {
   "display_name": "Python 3",
   "language": "python",
   "name": "python3"
  },
  "language_info": {
   "codemirror_mode": {
    "name": "ipython",
    "version": 3
   },
   "file_extension": ".py",
   "mimetype": "text/x-python",
   "name": "python",
   "nbconvert_exporter": "python",
   "pygments_lexer": "ipython3",
   "version": "3.12.0"
  }
 },
 "nbformat": 4,
 "nbformat_minor": 2
}
