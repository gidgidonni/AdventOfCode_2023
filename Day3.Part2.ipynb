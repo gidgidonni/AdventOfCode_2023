{
 "cells": [
  {
   "cell_type": "markdown",
   "metadata": {},
   "source": [
    "# Advent of Code\n",
    "\n",
    "## Day 3: Gear Ratios"
   ]
  },
  {
   "cell_type": "code",
   "execution_count": 25,
   "metadata": {},
   "outputs": [
    {
     "name": "stdout",
     "output_type": "stream",
     "text": [
      "86879020\n"
     ]
    }
   ],
   "source": [
    "import re\n",
    "matrix = []\n",
    "\n",
    "with open('Day3.txt') as Day3_file:\n",
    "    for line in Day3_file:\n",
    "        line_ar = []\n",
    "        for i in line:\n",
    "            if i != '\\n':\n",
    "                line_ar.append(str(i))\n",
    "        matrix.append(line_ar)\n",
    "\n",
    "i = 0\n",
    "j = 0\n",
    "sym_coor = []\n",
    "for i in range(0,140):\n",
    "    for j in range(0,140):\n",
    "        if matrix[i][j] == '*':\n",
    "            sym_coor.append((i,j))\n",
    "\n",
    "num = ''\n",
    "coor_tuple = (0,0)\n",
    "new_matrix = []\n",
    "chars = ['']\n",
    "with open('Day3.txt') as Day3_file:\n",
    "    line_num = 0\n",
    "    for line in Day3_file:\n",
    "        char_num = 0\n",
    "        for i in line:\n",
    "            chars.append(i)\n",
    "            if re.findall(r'\\D',chars[-2]):\n",
    "                    if num != '':\n",
    "                        new_matrix.append([coor_tuple,num])\n",
    "                    num = ''\n",
    "            if re.findall(r'\\d', i):\n",
    "                if ( (line_num - 1, char_num - 1) in sym_coor ) or ( (line_num - 1, char_num) in sym_coor ) or ( (line_num - 1, char_num + 1) in sym_coor ) or ( (line_num, char_num - 1) in sym_coor ) or ( (line_num, char_num + 1) in sym_coor ) or ( (line_num + 1, char_num - 1) in sym_coor ) or ( (line_num + 1, char_num) in sym_coor ) or ( (line_num + 1, char_num + 1) in sym_coor ):\n",
    "                    num = num + i\n",
    "                    if re.findall(r'\\d',chars[-2]) and len(num) == 1:\n",
    "                        num = chars[-2] + num\n",
    "                        if re.findall(r'\\d',chars[-3]) and len(num) == 2:\n",
    "                            num = chars[-3] + num\n",
    "                    \n",
    "                    if (line_num - 1, char_num - 1) in sym_coor:\n",
    "                        coor_tuple = (line_num - 1, char_num - 1)\n",
    "                    elif (line_num - 1, char_num) in sym_coor:\n",
    "                        coor_tuple = (line_num - 1, char_num)\n",
    "                    elif (line_num - 1, char_num + 1) in sym_coor:\n",
    "                        coor_tuple = (line_num - 1, char_num + 1)\n",
    "                    elif (line_num, char_num - 1) in sym_coor:\n",
    "                        coor_tuple = (line_num, char_num - 1)\n",
    "                    elif (line_num, char_num + 1) in sym_coor:\n",
    "                        coor_tuple = (line_num, char_num + 1)\n",
    "                    elif (line_num + 1, char_num - 1) in sym_coor:\n",
    "                        coor_tuple = (line_num + 1, char_num - 1)\n",
    "                    elif (line_num + 1, char_num) in sym_coor:\n",
    "                        coor_tuple = (line_num + 1, char_num)\n",
    "                    elif (line_num + 1, char_num + 1) in sym_coor:\n",
    "                        coor_tuple = (line_num + 1, char_num + 1)\n",
    "                    \n",
    "                elif num != '' and re.findall(r'\\d',chars[-2]):\n",
    "                    num = num + i\n",
    "            char_num += 1\n",
    "        line_num += 1\n",
    "\n",
    "new_matrix.sort(key=lambda new_matrix: new_matrix[0])\n",
    "\n",
    "gear_list = []\n",
    "for i in range(len(new_matrix) - 1):\n",
    "    if new_matrix[i][0] == new_matrix[i + 1][0]:\n",
    "        gear_list.append(int(new_matrix[i][1]) * int(new_matrix[i + 1][1]))\n",
    "\n",
    "result = sum(gear_list)\n",
    "print(result)"
   ]
  },
  {
   "cell_type": "code",
   "execution_count": null,
   "metadata": {},
   "outputs": [],
   "source": []
  }
 ],
 "metadata": {
  "kernelspec": {
   "display_name": "Python 3",
   "language": "python",
   "name": "python3"
  },
  "language_info": {
   "codemirror_mode": {
    "name": "ipython",
    "version": 3
   },
   "file_extension": ".py",
   "mimetype": "text/x-python",
   "name": "python",
   "nbconvert_exporter": "python",
   "pygments_lexer": "ipython3",
   "version": "3.12.0"
  }
 },
 "nbformat": 4,
 "nbformat_minor": 2
}
