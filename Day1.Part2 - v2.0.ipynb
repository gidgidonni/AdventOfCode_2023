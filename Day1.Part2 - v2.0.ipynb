{
 "cells": [
  {
   "cell_type": "markdown",
   "metadata": {},
   "source": [
    "# Advent of Code\n",
    "\n",
    "## Day 1: Trebuchet?!"
   ]
  },
  {
   "cell_type": "code",
   "execution_count": 8,
   "metadata": {},
   "outputs": [
    {
     "name": "stdout",
     "output_type": "stream",
     "text": [
      "55218\n"
     ]
    }
   ],
   "source": [
    "import re\n",
    "\n",
    "result = 0\n",
    "\n",
    "def line_cleaner(original_line):\n",
    "\n",
    "    cleaned_line = original_line.replace('one','o1e')\n",
    "    cleaned_line = cleaned_line.replace('two','t2o')\n",
    "    cleaned_line = cleaned_line.replace('three','t3e')\n",
    "    cleaned_line = cleaned_line.replace('four','f4r')\n",
    "    cleaned_line = cleaned_line.replace('five','f5e')\n",
    "    cleaned_line = cleaned_line.replace('six','s6x')\n",
    "    cleaned_line = cleaned_line.replace('seven','s7n')\n",
    "    cleaned_line = cleaned_line.replace('eight','e8t')\n",
    "    cleaned_line = cleaned_line.replace('nine','n9e')\n",
    "\n",
    "    return cleaned_line\n",
    "    \n",
    "def int_num_pos(line_input):\n",
    "\n",
    "    line_input = line_cleaner(line_input)\n",
    "\n",
    "    match_num_int = re.findall(r'\\d', line_input)\n",
    "\n",
    "    return match_num_int\n",
    "\n",
    "with open('Day1.txt') as Day1_file:\n",
    "    for line in Day1_file:\n",
    "\n",
    "        list_nums_pos_int = int_num_pos(line)\n",
    "\n",
    "        m1_pos_int = list_nums_pos_int[0]\n",
    "\n",
    "        m2_pos_int = list_nums_pos_int[-1]\n",
    "\n",
    "        str_result = m1_pos_int + m2_pos_int\n",
    "\n",
    "        result += int(str_result)\n",
    "\n",
    "print(result)"
   ]
  },
  {
   "cell_type": "code",
   "execution_count": null,
   "metadata": {},
   "outputs": [],
   "source": []
  }
 ],
 "metadata": {
  "kernelspec": {
   "display_name": "Python 3",
   "language": "python",
   "name": "python3"
  },
  "language_info": {
   "codemirror_mode": {
    "name": "ipython",
    "version": 3
   },
   "file_extension": ".py",
   "mimetype": "text/x-python",
   "name": "python",
   "nbconvert_exporter": "python",
   "pygments_lexer": "ipython3",
   "version": "3.12.0"
  }
 },
 "nbformat": 4,
 "nbformat_minor": 2
}
