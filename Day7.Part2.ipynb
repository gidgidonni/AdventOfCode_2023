{
 "cells": [
  {
   "cell_type": "markdown",
   "metadata": {},
   "source": [
    "# Advent of Code\n",
    "\n",
    "## Day 7: Camel Cards"
   ]
  },
  {
   "cell_type": "code",
   "execution_count": 3,
   "metadata": {},
   "outputs": [
    {
     "name": "stdout",
     "output_type": "stream",
     "text": [
      "250057090\n"
     ]
    }
   ],
   "source": [
    "from functools import reduce\n",
    "\n",
    "hand_bid = open('Day7.txt').read().split('\\n')\n",
    "\n",
    "def counter(string, card):\n",
    "    return string.count(card)\n",
    "\n",
    "cards = ['A', 'K', 'Q', 'T', '9', '8', '7', '6', '5', '4', '3', '2', 'J']\n",
    "\n",
    "hands = []\n",
    "for hand in hand_bid:\n",
    "    count = []\n",
    "    for card in cards:\n",
    "        count.append(counter(hand.split()[0], card))\n",
    "    converted_hand = hand.split()[0].replace('A','D')\n",
    "    converted_hand = converted_hand.split()[0].replace('K','C')\n",
    "    converted_hand = converted_hand.split()[0].replace('Q','B')\n",
    "    converted_hand = converted_hand.split()[0].replace('T','A')\n",
    "    converted_hand = converted_hand.split()[0].replace('J','1')\n",
    "    if count[12] > 0:\n",
    "        count[max(range(len(count)-1), key=count.__getitem__)] = count[max(range(len(count)-1), key=count.__getitem__)] + count[12]\n",
    "        count[12] = 0\n",
    "    hands.append((count, (converted_hand, int(hand.split()[1]))))\n",
    "\n",
    "Five_of_a_kind = list(filter(lambda x: 1 == x[0].count(5), hands))\n",
    "Four_of_a_kind = list(filter(lambda x: 1 == x[0].count(4), hands))\n",
    "Full_house = list(filter(lambda x: 1 == x[0].count(2) and 1 == x[0].count(3), hands))\n",
    "Three_of_a_kind = list(filter(lambda x: 1 == x[0].count(3) and 2 == x[0].count(1), hands))\n",
    "Two_pair = list(filter(lambda x: 2 == x[0].count(2), hands))\n",
    "One_pair = list(filter(lambda x: 1 == x[0].count(2) and 3 == x[0].count(1), hands))\n",
    "High_card = list(filter(lambda x: 5 == x[0].count(1), hands))\n",
    "\n",
    "Five_of_a_kind = sorted(Five_of_a_kind, key = lambda x: x[1][0])\n",
    "Four_of_a_kind = sorted(Four_of_a_kind, key = lambda x: x[1][0])\n",
    "Full_house = sorted(Full_house, key = lambda x: x[1][0])\n",
    "Three_of_a_kind = sorted(Three_of_a_kind, key = lambda x: x[1][0])\n",
    "Two_pair = sorted(Two_pair, key = lambda x: x[1][0])\n",
    "One_pair = sorted(One_pair, key = lambda x: x[1][0])\n",
    "High_card = sorted(High_card, key = lambda x: x[1][0])\n",
    "\n",
    "final_list = High_card + One_pair + Two_pair + Three_of_a_kind + Full_house + Four_of_a_kind + Five_of_a_kind\n",
    "\n",
    "result = 0\n",
    "for i in range(len(final_list)):\n",
    "    result += (i + 1) * final_list[i][1][1]\n",
    "\n",
    "print(result)"
   ]
  },
  {
   "cell_type": "code",
   "execution_count": null,
   "metadata": {},
   "outputs": [],
   "source": []
  }
 ],
 "metadata": {
  "kernelspec": {
   "display_name": "Python 3",
   "language": "python",
   "name": "python3"
  },
  "language_info": {
   "codemirror_mode": {
    "name": "ipython",
    "version": 3
   },
   "file_extension": ".py",
   "mimetype": "text/x-python",
   "name": "python",
   "nbconvert_exporter": "python",
   "pygments_lexer": "ipython3",
   "version": "3.12.0"
  }
 },
 "nbformat": 4,
 "nbformat_minor": 2
}
