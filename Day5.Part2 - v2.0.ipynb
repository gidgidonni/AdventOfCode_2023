{
 "cells": [
  {
   "cell_type": "markdown",
   "metadata": {},
   "source": [
    "# Advent of Code\n",
    "\n",
    "## Day 4: Scratchcards"
   ]
  },
  {
   "cell_type": "code",
   "execution_count": 50,
   "metadata": {},
   "outputs": [
    {
     "name": "stdout",
     "output_type": "stream",
     "text": [
      "261668924 24261545\n"
     ]
    }
   ],
   "source": [
    "from functools import reduce\n",
    "\n",
    "seeds, *mappings = open('Day5.txt').read().split('\\n\\n')\n",
    "seeds = [int(x) for x in seeds.split()[1:]]\n",
    "\n",
    "def lookup(inputs, mapping):\n",
    "    for start, length in inputs:\n",
    "        while length > 0:\n",
    "            for m in mapping.split('\\n')[1:]:\n",
    "                dst,src,len = [int(x) for x in m.split()]\n",
    "                delta = start - src\n",
    "                if delta in range(len):\n",
    "                    len = min(len - delta, length)\n",
    "                    yield (dst + delta, len)\n",
    "                    start += len\n",
    "                    length -= len\n",
    "                    break\n",
    "            else: yield (start, length); break\n",
    "\n",
    "print(\n",
    "    *[min(reduce(lookup, mappings, s))[0] for s in [\n",
    "    zip(seeds, [1] * len(seeds)),\n",
    "    zip(seeds[0::2], seeds[1::2])]]\n",
    "    )"
   ]
  },
  {
   "cell_type": "code",
   "execution_count": null,
   "metadata": {},
   "outputs": [],
   "source": []
  }
 ],
 "metadata": {
  "kernelspec": {
   "display_name": "Python 3",
   "language": "python",
   "name": "python3"
  },
  "language_info": {
   "codemirror_mode": {
    "name": "ipython",
    "version": 3
   },
   "file_extension": ".py",
   "mimetype": "text/x-python",
   "name": "python",
   "nbconvert_exporter": "python",
   "pygments_lexer": "ipython3",
   "version": "3.12.0"
  }
 },
 "nbformat": 4,
 "nbformat_minor": 2
}
