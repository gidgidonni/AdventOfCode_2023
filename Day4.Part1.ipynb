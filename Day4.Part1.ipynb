{
 "cells": [
  {
   "cell_type": "markdown",
   "metadata": {},
   "source": [
    "# Advent of Code\n",
    "\n",
    "## Day 4: Scratchcards"
   ]
  },
  {
   "cell_type": "code",
   "execution_count": 17,
   "metadata": {},
   "outputs": [
    {
     "name": "stdout",
     "output_type": "stream",
     "text": [
      "17782\n"
     ]
    }
   ],
   "source": [
    "import re\n",
    "\n",
    "result = 0\n",
    "\n",
    "with open('Day4.txt') as Day4_file:\n",
    "    for line in Day4_file:\n",
    "        power = 0\n",
    "        line_nums = re.findall(r'\\s[0-9]+', line)\n",
    "        numbers = [ int(x) for x in line_nums ]\n",
    "        winning_nums = numbers[1:11]\n",
    "        test_nums = numbers[11:]\n",
    "        for i in winning_nums:\n",
    "            if i in test_nums:\n",
    "                power += 1\n",
    "        if power != 0:\n",
    "            line_points = pow(2, power - 1)\n",
    "        else:\n",
    "            line_points = 0\n",
    "        result += line_points\n",
    "\n",
    "print(result)"
   ]
  },
  {
   "cell_type": "code",
   "execution_count": null,
   "metadata": {},
   "outputs": [],
   "source": []
  }
 ],
 "metadata": {
  "kernelspec": {
   "display_name": "Python 3",
   "language": "python",
   "name": "python3"
  },
  "language_info": {
   "codemirror_mode": {
    "name": "ipython",
    "version": 3
   },
   "file_extension": ".py",
   "mimetype": "text/x-python",
   "name": "python",
   "nbconvert_exporter": "python",
   "pygments_lexer": "ipython3",
   "version": "3.12.0"
  }
 },
 "nbformat": 4,
 "nbformat_minor": 2
}
