{
 "cells": [
  {
   "cell_type": "markdown",
   "metadata": {},
   "source": [
    "# Advent of Code\n",
    "\n",
    "## Day 4: Scratchcards"
   ]
  },
  {
   "cell_type": "code",
   "execution_count": 26,
   "metadata": {},
   "outputs": [
    {
     "name": "stdout",
     "output_type": "stream",
     "text": [
      "8477787\n"
     ]
    }
   ],
   "source": [
    "import re\n",
    "\n",
    "result = 0\n",
    "\n",
    "num_list = []\n",
    "with open('Day4.txt') as Day4_file:\n",
    "    for line in Day4_file:\n",
    "        num_count = 0\n",
    "        line_nums = re.findall(r'\\s[0-9]+', line)\n",
    "        numbers = [ int(x) for x in line_nums ]\n",
    "        winning_nums = numbers[1:11]\n",
    "        test_nums = numbers[11:]\n",
    "        for i in winning_nums:\n",
    "            if i in test_nums:\n",
    "                num_count += 1\n",
    "        num_list.append(num_count)\n",
    "\n",
    "num_list[0] = [num_list[0], 1]\n",
    "for i in range(1, len(num_list)):\n",
    "    num_list[i] = [num_list[i], 1]\n",
    "\n",
    "\n",
    "for i in range(1, len(num_list)):\n",
    "    for k in range(num_list[i - 1][1]):\n",
    "        for j in range(num_list[i - 1][0]):\n",
    "            num_list[i + j][1] += 1\n",
    "\n",
    "result = 0\n",
    "for i in num_list:\n",
    "    result += i[1]\n",
    "\n",
    "print(result)"
   ]
  },
  {
   "cell_type": "code",
   "execution_count": null,
   "metadata": {},
   "outputs": [],
   "source": []
  }
 ],
 "metadata": {
  "kernelspec": {
   "display_name": "Python 3",
   "language": "python",
   "name": "python3"
  },
  "language_info": {
   "codemirror_mode": {
    "name": "ipython",
    "version": 3
   },
   "file_extension": ".py",
   "mimetype": "text/x-python",
   "name": "python",
   "nbconvert_exporter": "python",
   "pygments_lexer": "ipython3",
   "version": "3.12.0"
  }
 },
 "nbformat": 4,
 "nbformat_minor": 2
}
