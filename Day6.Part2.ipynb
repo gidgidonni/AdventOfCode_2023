{
 "cells": [
  {
   "cell_type": "markdown",
   "metadata": {},
   "source": [
    "# Advent of Code\n",
    "\n",
    "## Day 6: Wait For It"
   ]
  },
  {
   "cell_type": "code",
   "execution_count": 13,
   "metadata": {},
   "outputs": [
    {
     "name": "stdout",
     "output_type": "stream",
     "text": [
      "26499773\n"
     ]
    }
   ],
   "source": [
    "from functools import reduce\n",
    "\n",
    "times, distances = open('Day6.txt').read().split('\\n')\n",
    "\n",
    "times = int(reduce(lambda x,y: x+y, times.split()[1:]))\n",
    "distances = int(reduce(lambda x,y: x+y, distances.split()[1:]))\n",
    "\n",
    "def minimum_time(time_distance_tuple):\n",
    "    for press_time in range(time_distance_tuple[0]):\n",
    "        rem_time = time_distance_tuple[0] - press_time\n",
    "        vel = press_time\n",
    "        traveled_distance = rem_time * press_time\n",
    "        if traveled_distance > time_distance_tuple[1]:\n",
    "            return press_time\n",
    "\n",
    "def maximum_time(time_distance_tuple):\n",
    "    for press_time in range(time_distance_tuple[0],0,-1):\n",
    "        rem_time = time_distance_tuple[0] - press_time\n",
    "        vel = press_time\n",
    "        traveled_distance = rem_time * press_time\n",
    "        if traveled_distance > time_distance_tuple[1]:\n",
    "            return press_time\n",
    "\n",
    "result = maximum_time((times,distances)) - minimum_time((times,distances)) + 1\n",
    "print(result)"
   ]
  },
  {
   "cell_type": "code",
   "execution_count": null,
   "metadata": {},
   "outputs": [],
   "source": []
  }
 ],
 "metadata": {
  "kernelspec": {
   "display_name": "Python 3",
   "language": "python",
   "name": "python3"
  },
  "language_info": {
   "codemirror_mode": {
    "name": "ipython",
    "version": 3
   },
   "file_extension": ".py",
   "mimetype": "text/x-python",
   "name": "python",
   "nbconvert_exporter": "python",
   "pygments_lexer": "ipython3",
   "version": "3.12.0"
  }
 },
 "nbformat": 4,
 "nbformat_minor": 2
}
